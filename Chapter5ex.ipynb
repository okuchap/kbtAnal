{
 "cells": [
  {
   "cell_type": "markdown",
   "metadata": {},
   "source": [
    "#Exercise 1"
   ]
  },
  {
   "cell_type": "markdown",
   "metadata": {},
   "source": [
    "Solve the following equation by using Newton method.\n",
    "\n",
    "$\n",
    "\\begin{eqnarray}\n",
    "  \\begin{cases}\n",
    "    x^2 + 4y^2 - 4 = 0 & \\\\\n",
    "    x^2 - 2xy - y - 1 = 0 &\n",
    "  \\end{cases}\n",
    "\\end{eqnarray}\n",
    "$"
   ]
  },
  {
   "cell_type": "code",
   "execution_count": 4,
   "metadata": {
    "collapsed": true
   },
   "outputs": [],
   "source": [
    "import numpy as np"
   ]
  },
  {
   "cell_type": "code",
   "execution_count": 5,
   "metadata": {
    "collapsed": true
   },
   "outputs": [],
   "source": [
    "def f(x):\n",
    "    y = np.array([[0],[0]]) #列ベクトルってどうやって宣言すればいいの\n",
    "    \n",
    "    y[0] = x[0]**2 + 4*(x[1]**2) - 4\n",
    "    y[1] = x[0]**2 - 2*x[0]*x[1] - x[1] -1\n",
    "    \n",
    "    return y"
   ]
  },
  {
   "cell_type": "code",
   "execution_count": 7,
   "metadata": {
    "collapsed": true
   },
   "outputs": [],
   "source": [
    "def Jf(x):\n",
    "    n = len(x)\n",
    "    y = np.ones((n,n))\n",
    "    \n",
    "    y[0][0] = 2*x[0]\n",
    "    y[0][1] = 8*x[1]\n",
    "    y[1][0] = 2*x[0] - 2*x[1]\n",
    "    y[1][1] = -2*x[0] - 2*x[1]\n",
    "    \n",
    "    return y"
   ]
  },
  {
   "cell_type": "code",
   "execution_count": 8,
   "metadata": {
    "collapsed": true
   },
   "outputs": [],
   "source": [
    "x = np.array([[1.0],[1]])"
   ]
  },
  {
   "cell_type": "code",
   "execution_count": 9,
   "metadata": {
    "collapsed": true
   },
   "outputs": [],
   "source": [
    "def stepNewton(x):\n",
    "    '''初期解xから１ステップ進める'''\n",
    "    y = np.array([[0],[0]])\n",
    "    y = x - np.dot(Jf(x),f(x))\n",
    "    return y"
   ]
  },
  {
   "cell_type": "code",
   "execution_count": 10,
   "metadata": {
    "collapsed": true
   },
   "outputs": [],
   "source": [
    "from scipy.linalg import norm"
   ]
  },
  {
   "cell_type": "code",
   "execution_count": 11,
   "metadata": {
    "collapsed": true
   },
   "outputs": [],
   "source": [
    "def Newton(x):\n",
    "    epsilon = 0.00001\n",
    "    count = 0\n",
    "    iterationMax = 30\n",
    "    \n",
    "    while True:\n",
    "        x = stepNewton(x)\n",
    "        count += 1\n",
    "        \n",
    "        if count % 5 == 0:\n",
    "            print \"the number of iteration is \" + str(count)\n",
    "            print \"f(x) = \" + str(f(x))\n",
    "            print \"x = \" + str(x)\n",
    "        \n",
    "        if count >= iterationMax:\n",
    "            break\n",
    "        \n",
    "        if norm( f(x) ) < epsilon:\n",
    "            break\n",
    "    \n",
    "    print \"the number of iteration is \" + str(count)\n",
    "    print \"f(x) = \" + str(f(x))\n",
    "    print \"x = \" + str(x)"
   ]
  },
  {
   "cell_type": "code",
   "execution_count": 12,
   "metadata": {
    "collapsed": false
   },
   "outputs": [
    {
     "name": "stdout",
     "output_type": "stream",
     "text": [
      "the number of iteration is 1\n",
      "f(x) = [[0]\n",
      " [0]]\n",
      "x = [[-1.8]\n",
      " [-0.5]]\n"
     ]
    }
   ],
   "source": [
    "Newton(np.array([[-0.6],[-0.7]]))"
   ]
  },
  {
   "cell_type": "code",
   "execution_count": 73,
   "metadata": {
    "collapsed": false,
    "scrolled": false
   },
   "outputs": [
    {
     "data": {
      "text/plain": [
       "array([[-22.],\n",
       "       [ 12.]])"
      ]
     },
     "execution_count": 73,
     "metadata": {},
     "output_type": "execute_result"
    }
   ],
   "source": [
    "np.dot(Jf(x),f(x))"
   ]
  },
  {
   "cell_type": "code",
   "execution_count": 97,
   "metadata": {
    "collapsed": false
   },
   "outputs": [
    {
     "data": {
      "text/plain": [
       "array([[0],\n",
       "       [0]])"
      ]
     },
     "execution_count": 97,
     "metadata": {},
     "output_type": "execute_result"
    }
   ],
   "source": [
    "f([-1.8,-0.5])"
   ]
  },
  {
   "cell_type": "code",
   "execution_count": 109,
   "metadata": {
    "collapsed": true
   },
   "outputs": [
    {
     "name": "stdout",
     "output_type": "stream",
     "text": [
      "the number of iteration is 4\n",
      "f(x) = [[-9223372036854775808]\n",
      " [-9223372036854775808]]\n",
      "x = [[ -2.55586419e+14]\n",
      " [  1.10969331e+15]]\n"
     ]
    }
   ],
   "source": [
    "Newton(np.array([[-0.2],[-0.7]])) #???"
   ]
  },
  {
   "cell_type": "code",
   "execution_count": 13,
   "metadata": {
    "collapsed": false,
    "scrolled": true
   },
   "outputs": [
    {
     "name": "stdout",
     "output_type": "stream",
     "text": [
      "the number of iteration is 4\n",
      "f(x) = [[-9223372036854775808]\n",
      " [-9223372036854775808]]\n",
      "x = [[  2.88982141e+20]\n",
      " [  3.99840155e+18]]\n"
     ]
    },
    {
     "name": "stderr",
     "output_type": "stream",
     "text": [
      "//anaconda/lib/python2.7/site-packages/numpy/linalg/linalg.py:2061: RuntimeWarning: invalid value encountered in sqrt\n",
      "  return sqrt(sqnorm)\n"
     ]
    }
   ],
   "source": [
    "Newton(np.array([[-0.7],[-0.6]])) #???"
   ]
  },
  {
   "cell_type": "code",
   "execution_count": 28,
   "metadata": {
    "collapsed": false
   },
   "outputs": [
    {
     "name": "stdout",
     "output_type": "stream",
     "text": [
      "the number of iteration is 1\n",
      "f(x) = [[0]\n",
      " [0]]\n",
      "x = [[-1.74]\n",
      " [-0.42]]\n"
     ]
    }
   ],
   "source": [
    "Newton(np.array([[-0.58],[-0.74]]))"
   ]
  },
  {
   "cell_type": "markdown",
   "metadata": {},
   "source": [
    "##ギモン"
   ]
  },
  {
   "cell_type": "markdown",
   "metadata": {},
   "source": [
    "1.Newton法の初期値ってどう選べばいいの？\n",
    "\n",
    "2.結果がよくわからない・・・"
   ]
  },
  {
   "cell_type": "code",
   "execution_count": null,
   "metadata": {
    "collapsed": true
   },
   "outputs": [],
   "source": []
  }
 ],
 "metadata": {
  "kernelspec": {
   "display_name": "Python 2",
   "language": "python",
   "name": "python2"
  },
  "language_info": {
   "codemirror_mode": {
    "name": "ipython",
    "version": 2
   },
   "file_extension": ".py",
   "mimetype": "text/x-python",
   "name": "python",
   "nbconvert_exporter": "python",
   "pygments_lexer": "ipython2",
   "version": "2.7.10"
  }
 },
 "nbformat": 4,
 "nbformat_minor": 0
}
