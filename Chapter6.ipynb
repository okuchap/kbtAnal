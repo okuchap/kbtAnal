{
 "cells": [
  {
   "cell_type": "markdown",
   "metadata": {},
   "source": [
    "#第6章　線形方程式"
   ]
  },
  {
   "cell_type": "markdown",
   "metadata": {},
   "source": [
    "##6.0 numpyをちょっと復習"
   ]
  },
  {
   "cell_type": "markdown",
   "metadata": {},
   "source": [
    "http://rest-term.com/archives/2999/"
   ]
  },
  {
   "cell_type": "code",
   "execution_count": 2,
   "metadata": {
    "collapsed": true
   },
   "outputs": [],
   "source": [
    "import numpy as np"
   ]
  },
  {
   "cell_type": "markdown",
   "metadata": {},
   "source": [
    "好きな行列の作り方その１"
   ]
  },
  {
   "cell_type": "code",
   "execution_count": 8,
   "metadata": {
    "collapsed": true
   },
   "outputs": [],
   "source": [
    "A = ((3,1,3),(2,3,4),(1,2,3))"
   ]
  },
  {
   "cell_type": "code",
   "execution_count": 10,
   "metadata": {
    "collapsed": true
   },
   "outputs": [],
   "source": [
    "A = np.array(A)"
   ]
  },
  {
   "cell_type": "code",
   "execution_count": 11,
   "metadata": {
    "collapsed": false
   },
   "outputs": [
    {
     "data": {
      "text/plain": [
       "array([[3, 1, 3],\n",
       "       [2, 3, 4],\n",
       "       [1, 2, 3]])"
      ]
     },
     "execution_count": 11,
     "metadata": {},
     "output_type": "execute_result"
    }
   ],
   "source": [
    "A"
   ]
  },
  {
   "cell_type": "markdown",
   "metadata": {},
   "source": [
    "好きな行列の作り方その２"
   ]
  },
  {
   "cell_type": "code",
   "execution_count": 3,
   "metadata": {
    "collapsed": false
   },
   "outputs": [],
   "source": [
    "A = np.array([ [3,1,3], [2,3,4], [1,2,3] ]) #型は勝手に判定されてしまう。気付かぬ間に整数型にされてる。"
   ]
  },
  {
   "cell_type": "code",
   "execution_count": 4,
   "metadata": {
    "collapsed": false
   },
   "outputs": [],
   "source": [
    "A1 = np.array([ [3,1,3], [2,3,4], [1,2,3] ], dtype=np.float) #float型の配列にしたい場合その１"
   ]
  },
  {
   "cell_type": "code",
   "execution_count": 6,
   "metadata": {
    "collapsed": true
   },
   "outputs": [],
   "source": [
    "A2 = np.array([ [3.0,1,3], [2,3,4], [1,2,3] ]) #float型にしたいその２"
   ]
  },
  {
   "cell_type": "code",
   "execution_count": 7,
   "metadata": {
    "collapsed": false
   },
   "outputs": [
    {
     "data": {
      "text/plain": [
       "array([[ 3.,  1.,  3.],\n",
       "       [ 2.,  3.,  4.],\n",
       "       [ 1.,  2.,  3.]])"
      ]
     },
     "execution_count": 7,
     "metadata": {},
     "output_type": "execute_result"
    }
   ],
   "source": [
    "A1"
   ]
  },
  {
   "cell_type": "markdown",
   "metadata": {},
   "source": [
    "好きなベクトルの作り方"
   ]
  },
  {
   "cell_type": "code",
   "execution_count": 42,
   "metadata": {
    "collapsed": true
   },
   "outputs": [],
   "source": [
    "b = np.array([1,2,3]) #row vector"
   ]
  },
  {
   "cell_type": "code",
   "execution_count": 41,
   "metadata": {
    "collapsed": false
   },
   "outputs": [
    {
     "data": {
      "text/plain": [
       "array([1, 2, 3])"
      ]
     },
     "execution_count": 41,
     "metadata": {},
     "output_type": "execute_result"
    }
   ],
   "source": [
    "b"
   ]
  },
  {
   "cell_type": "code",
   "execution_count": 45,
   "metadata": {
    "collapsed": true
   },
   "outputs": [],
   "source": [
    "c = np.array([ [1],[2],[3] ]) #column vector"
   ]
  },
  {
   "cell_type": "code",
   "execution_count": 44,
   "metadata": {
    "collapsed": false
   },
   "outputs": [
    {
     "data": {
      "text/plain": [
       "array([[1],\n",
       "       [2],\n",
       "       [3]])"
      ]
     },
     "execution_count": 44,
     "metadata": {},
     "output_type": "execute_result"
    }
   ],
   "source": [
    "c"
   ]
  },
  {
   "cell_type": "code",
   "execution_count": 36,
   "metadata": {
    "collapsed": false
   },
   "outputs": [
    {
     "data": {
      "text/plain": [
       "3"
      ]
     },
     "execution_count": 36,
     "metadata": {},
     "output_type": "execute_result"
    }
   ],
   "source": [
    "A[2][2] #成分を表示"
   ]
  },
  {
   "cell_type": "markdown",
   "metadata": {},
   "source": [
    "特殊な行列・ベクトルの作り方"
   ]
  },
  {
   "cell_type": "code",
   "execution_count": 48,
   "metadata": {
    "collapsed": false
   },
   "outputs": [],
   "source": [
    "B = np.identity(2) #identity matrix"
   ]
  },
  {
   "cell_type": "code",
   "execution_count": 16,
   "metadata": {
    "collapsed": false
   },
   "outputs": [
    {
     "data": {
      "text/plain": [
       "array([[ 1.,  0.],\n",
       "       [ 0.,  1.]])"
      ]
     },
     "execution_count": 16,
     "metadata": {},
     "output_type": "execute_result"
    }
   ],
   "source": [
    "B"
   ]
  },
  {
   "cell_type": "code",
   "execution_count": 56,
   "metadata": {
    "collapsed": true
   },
   "outputs": [],
   "source": [
    "C = np.zeros((3,3)) #zero matrix\n",
    "z = np.zeros(3) #zero vector(row)"
   ]
  },
  {
   "cell_type": "code",
   "execution_count": 47,
   "metadata": {
    "collapsed": false
   },
   "outputs": [
    {
     "data": {
      "text/plain": [
       "array([[ 0.,  0.,  0.],\n",
       "       [ 0.,  0.,  0.],\n",
       "       [ 0.,  0.,  0.]])"
      ]
     },
     "execution_count": 47,
     "metadata": {},
     "output_type": "execute_result"
    }
   ],
   "source": [
    "C"
   ]
  },
  {
   "cell_type": "code",
   "execution_count": 57,
   "metadata": {
    "collapsed": false
   },
   "outputs": [
    {
     "data": {
      "text/plain": [
       "array([ 0.,  0.,  0.])"
      ]
     },
     "execution_count": 57,
     "metadata": {},
     "output_type": "execute_result"
    }
   ],
   "source": [
    "z"
   ]
  },
  {
   "cell_type": "code",
   "execution_count": 52,
   "metadata": {
    "collapsed": true
   },
   "outputs": [],
   "source": [
    "D = np.ones((2,2)) #all elements are one"
   ]
  },
  {
   "cell_type": "code",
   "execution_count": 51,
   "metadata": {
    "collapsed": false
   },
   "outputs": [
    {
     "data": {
      "text/plain": [
       "array([[ 1.,  1.],\n",
       "       [ 1.,  1.]])"
      ]
     },
     "execution_count": 51,
     "metadata": {},
     "output_type": "execute_result"
    }
   ],
   "source": [
    "D"
   ]
  },
  {
   "cell_type": "markdown",
   "metadata": {},
   "source": [
    "行列演算"
   ]
  },
  {
   "cell_type": "code",
   "execution_count": 24,
   "metadata": {
    "collapsed": false
   },
   "outputs": [],
   "source": [
    "from scipy.linalg import inv, solve, det"
   ]
  },
  {
   "cell_type": "code",
   "execution_count": 25,
   "metadata": {
    "collapsed": false
   },
   "outputs": [
    {
     "data": {
      "text/plain": [
       "array([[3, 1, 3],\n",
       "       [2, 3, 4],\n",
       "       [1, 2, 3]])"
      ]
     },
     "execution_count": 25,
     "metadata": {},
     "output_type": "execute_result"
    }
   ],
   "source": [
    "A"
   ]
  },
  {
   "cell_type": "code",
   "execution_count": 28,
   "metadata": {
    "collapsed": false
   },
   "outputs": [
    {
     "data": {
      "text/plain": [
       "array([[ 0.25,  0.75, -1.25],\n",
       "       [-0.5 ,  1.5 , -1.5 ],\n",
       "       [ 0.25, -1.25,  1.75]])"
      ]
     },
     "execution_count": 28,
     "metadata": {},
     "output_type": "execute_result"
    }
   ],
   "source": [
    "inv(A)"
   ]
  },
  {
   "cell_type": "code",
   "execution_count": 29,
   "metadata": {
    "collapsed": false
   },
   "outputs": [
    {
     "data": {
      "text/plain": [
       "4.0"
      ]
     },
     "execution_count": 29,
     "metadata": {},
     "output_type": "execute_result"
    }
   ],
   "source": [
    "det(A)"
   ]
  },
  {
   "cell_type": "code",
   "execution_count": 58,
   "metadata": {
    "collapsed": false
   },
   "outputs": [],
   "source": [
    "b = np.array([ [1],[5],[4] ])"
   ]
  },
  {
   "cell_type": "code",
   "execution_count": 59,
   "metadata": {
    "collapsed": false
   },
   "outputs": [
    {
     "data": {
      "text/plain": [
       "array([[ 3,  1,  3],\n",
       "       [10, 15, 20],\n",
       "       [ 4,  8, 12]])"
      ]
     },
     "execution_count": 59,
     "metadata": {},
     "output_type": "execute_result"
    }
   ],
   "source": [
    "A*b #要素ごとの積"
   ]
  },
  {
   "cell_type": "code",
   "execution_count": 61,
   "metadata": {
    "collapsed": false
   },
   "outputs": [
    {
     "data": {
      "text/plain": [
       "array([[20],\n",
       "       [33],\n",
       "       [23]])"
      ]
     },
     "execution_count": 61,
     "metadata": {},
     "output_type": "execute_result"
    }
   ],
   "source": [
    "np.dot(A,b) #行列の積"
   ]
  },
  {
   "cell_type": "code",
   "execution_count": 64,
   "metadata": {
    "collapsed": false
   },
   "outputs": [
    {
     "data": {
      "text/plain": [
       "array([[-1.],\n",
       "       [ 1.],\n",
       "       [ 1.]])"
      ]
     },
     "execution_count": 64,
     "metadata": {},
     "output_type": "execute_result"
    }
   ],
   "source": [
    "solve(A,b) #Ax=bの解x"
   ]
  },
  {
   "cell_type": "code",
   "execution_count": 63,
   "metadata": {
    "collapsed": false
   },
   "outputs": [
    {
     "data": {
      "text/plain": [
       "array([[-1.],\n",
       "       [ 1.],\n",
       "       [ 1.]])"
      ]
     },
     "execution_count": 63,
     "metadata": {},
     "output_type": "execute_result"
    }
   ],
   "source": [
    "np.dot(inv(A),b)"
   ]
  },
  {
   "cell_type": "markdown",
   "metadata": {},
   "source": [
    "##6.2 LU分解による線形方程式解法"
   ]
  },
  {
   "cell_type": "markdown",
   "metadata": {},
   "source": [
    "###6.2.1 scipyのLU分解メソッド"
   ]
  },
  {
   "cell_type": "markdown",
   "metadata": {},
   "source": [
    "実は、scipyにはLU分解のメソッドがある。"
   ]
  },
  {
   "cell_type": "code",
   "execution_count": 65,
   "metadata": {
    "collapsed": true
   },
   "outputs": [],
   "source": [
    "from scipy.linalg import lu_factor, lu_solve"
   ]
  },
  {
   "cell_type": "code",
   "execution_count": 66,
   "metadata": {
    "collapsed": true
   },
   "outputs": [],
   "source": [
    "LU = lu_factor(A)"
   ]
  },
  {
   "cell_type": "code",
   "execution_count": 67,
   "metadata": {
    "collapsed": false
   },
   "outputs": [
    {
     "data": {
      "text/plain": [
       "array([[3, 1, 3],\n",
       "       [2, 3, 4],\n",
       "       [1, 2, 3]])"
      ]
     },
     "execution_count": 67,
     "metadata": {},
     "output_type": "execute_result"
    }
   ],
   "source": [
    "A"
   ]
  },
  {
   "cell_type": "code",
   "execution_count": 69,
   "metadata": {
    "collapsed": true
   },
   "outputs": [],
   "source": [
    "b = np.array([[1],[5],[4]])"
   ]
  },
  {
   "cell_type": "code",
   "execution_count": 68,
   "metadata": {
    "collapsed": false
   },
   "outputs": [
    {
     "data": {
      "text/plain": [
       "(array([[ 3.        ,  1.        ,  3.        ],\n",
       "        [ 0.66666667,  2.33333333,  2.        ],\n",
       "        [ 0.33333333,  0.71428571,  0.57142857]]),\n",
       " array([0, 1, 2], dtype=int32))"
      ]
     },
     "execution_count": 68,
     "metadata": {},
     "output_type": "execute_result"
    }
   ],
   "source": [
    "LU"
   ]
  },
  {
   "cell_type": "code",
   "execution_count": 70,
   "metadata": {
    "collapsed": true
   },
   "outputs": [],
   "source": [
    "x = lu_solve(LU,b)"
   ]
  },
  {
   "cell_type": "code",
   "execution_count": 71,
   "metadata": {
    "collapsed": false
   },
   "outputs": [
    {
     "data": {
      "text/plain": [
       "array([[-1.],\n",
       "       [ 1.],\n",
       "       [ 1.]])"
      ]
     },
     "execution_count": 71,
     "metadata": {},
     "output_type": "execute_result"
    }
   ],
   "source": [
    "x"
   ]
  },
  {
   "cell_type": "markdown",
   "metadata": {},
   "source": [
    "###6.2.2 LU分解のアルゴリズムを書いてみる"
   ]
  },
  {
   "cell_type": "markdown",
   "metadata": {},
   "source": [
    "####ピボットなし"
   ]
  },
  {
   "cell_type": "code",
   "execution_count": 10,
   "metadata": {
    "collapsed": true
   },
   "outputs": [],
   "source": [
    "from __future__ import division"
   ]
  },
  {
   "cell_type": "code",
   "execution_count": 11,
   "metadata": {
    "collapsed": true
   },
   "outputs": [],
   "source": [
    "import copy"
   ]
  },
  {
   "cell_type": "code",
   "execution_count": 12,
   "metadata": {
    "collapsed": false
   },
   "outputs": [],
   "source": [
    "A = np.array([[3.0,1,3],[2,3,4],[1,2,3]]) #float型の配列に"
   ]
  },
  {
   "cell_type": "code",
   "execution_count": 13,
   "metadata": {
    "collapsed": false
   },
   "outputs": [
    {
     "data": {
      "text/plain": [
       "dtype('float64')"
      ]
     },
     "execution_count": 13,
     "metadata": {},
     "output_type": "execute_result"
    }
   ],
   "source": [
    "A.dtype"
   ]
  },
  {
   "cell_type": "code",
   "execution_count": 15,
   "metadata": {
    "collapsed": true
   },
   "outputs": [],
   "source": [
    "LU = copy.deepcopy(A)"
   ]
  },
  {
   "cell_type": "code",
   "execution_count": 16,
   "metadata": {
    "collapsed": true
   },
   "outputs": [
    {
     "name": "stdout",
     "output_type": "stream",
     "text": [
      "[[ 3.          1.          3.        ]\n",
      " [ 0.66666667  3.          4.        ]\n",
      " [ 1.          2.          3.        ]]\n",
      "[[ 3.          1.          3.        ]\n",
      " [ 0.66666667  2.33333333  4.        ]\n",
      " [ 1.          2.          3.        ]]\n",
      "[[ 3.          1.          3.        ]\n",
      " [ 0.66666667  2.33333333  2.        ]\n",
      " [ 1.          2.          3.        ]]\n",
      "[[ 3.          1.          3.        ]\n",
      " [ 0.66666667  2.33333333  2.        ]\n",
      " [ 0.33333333  2.          3.        ]]\n",
      "[[ 3.          1.          3.        ]\n",
      " [ 0.66666667  2.33333333  2.        ]\n",
      " [ 0.33333333  1.66666667  3.        ]]\n",
      "[[ 3.          1.          3.        ]\n",
      " [ 0.66666667  2.33333333  2.        ]\n",
      " [ 0.33333333  1.66666667  2.        ]]\n",
      "[[ 3.          1.          3.        ]\n",
      " [ 0.66666667  2.33333333  2.        ]\n",
      " [ 0.33333333  0.71428571  2.        ]]\n",
      "[[ 3.          1.          3.        ]\n",
      " [ 0.66666667  2.33333333  2.        ]\n",
      " [ 0.33333333  0.71428571  0.57142857]]\n",
      "[[ 3.          1.          3.        ]\n",
      " [ 0.66666667  2.33333333  2.        ]\n",
      " [ 0.33333333  0.71428571  0.57142857]]\n"
     ]
    }
   ],
   "source": [
    "n = 3 #A is a 3*3 matrix\n",
    "for k in range(n):\n",
    "    w = 1/LU[k][k]\n",
    "    for i in range(k+1, n):\n",
    "        LU[i][k] = w * LU[i][k]\n",
    "        print LU\n",
    "        for j in range(k+1, n):\n",
    "            LU[i][j] = LU[i][j] - LU[i][k]*LU[k][j]\n",
    "            print LU\n",
    "print LU"
   ]
  },
  {
   "cell_type": "code",
   "execution_count": 139,
   "metadata": {
    "collapsed": false
   },
   "outputs": [
    {
     "data": {
      "text/plain": [
       "array([[ 3.        ,  1.        ,  3.        ],\n",
       "       [ 0.66666667,  2.33333333,  2.        ],\n",
       "       [ 0.33333333,  0.71428571,  0.57142857]])"
      ]
     },
     "execution_count": 139,
     "metadata": {},
     "output_type": "execute_result"
    }
   ],
   "source": [
    "LU"
   ]
  },
  {
   "cell_type": "code",
   "execution_count": 19,
   "metadata": {
    "collapsed": false
   },
   "outputs": [],
   "source": [
    "b = np.array([[1.0],[5],[4]])"
   ]
  },
  {
   "cell_type": "code",
   "execution_count": 21,
   "metadata": {
    "collapsed": true
   },
   "outputs": [],
   "source": [
    "y = np.zeros((n,1))"
   ]
  },
  {
   "cell_type": "code",
   "execution_count": 22,
   "metadata": {
    "collapsed": false
   },
   "outputs": [
    {
     "data": {
      "text/plain": [
       "array([[ 0.],\n",
       "       [ 0.],\n",
       "       [ 0.]])"
      ]
     },
     "execution_count": 22,
     "metadata": {},
     "output_type": "execute_result"
    }
   ],
   "source": [
    "y"
   ]
  },
  {
   "cell_type": "code",
   "execution_count": 23,
   "metadata": {
    "collapsed": false
   },
   "outputs": [],
   "source": [
    "#前進代入\n",
    "for i in range(n):\n",
    "    s = 0\n",
    "    for j in range(i):\n",
    "        s = s + LU[i][j]*y[j]\n",
    "    y[i] = b[i] - s"
   ]
  },
  {
   "cell_type": "code",
   "execution_count": 161,
   "metadata": {
    "collapsed": false
   },
   "outputs": [
    {
     "data": {
      "text/plain": [
       "array([[ 1.        ],\n",
       "       [ 4.33333333],\n",
       "       [ 0.57142857]])"
      ]
     },
     "execution_count": 161,
     "metadata": {},
     "output_type": "execute_result"
    }
   ],
   "source": [
    "y #Ly=bを解いた"
   ]
  },
  {
   "cell_type": "code",
   "execution_count": 177,
   "metadata": {
    "collapsed": false
   },
   "outputs": [],
   "source": [
    "#後退代入\n",
    "x = np.zeros((n,1))\n",
    "for i in range(2,-1,-1): #iは2,1,0と動く\n",
    "    s = 0\n",
    "    for j in range(i, n-1):\n",
    "        s = s + x[j+1]*LU[i][j+1]\n",
    "    x[i] = (y[i] - s)/LU[i][i]"
   ]
  },
  {
   "cell_type": "code",
   "execution_count": 173,
   "metadata": {
    "collapsed": false,
    "scrolled": true
   },
   "outputs": [
    {
     "data": {
      "text/plain": [
       "[2, 1, 0]"
      ]
     },
     "execution_count": 173,
     "metadata": {},
     "output_type": "execute_result"
    }
   ],
   "source": [
    "range(2,-1,-1)"
   ]
  },
  {
   "cell_type": "code",
   "execution_count": 174,
   "metadata": {
    "collapsed": false
   },
   "outputs": [
    {
     "data": {
      "text/plain": [
       "[2]"
      ]
     },
     "execution_count": 174,
     "metadata": {},
     "output_type": "execute_result"
    }
   ],
   "source": [
    "range(2,3)"
   ]
  },
  {
   "cell_type": "code",
   "execution_count": 178,
   "metadata": {
    "collapsed": false
   },
   "outputs": [
    {
     "data": {
      "text/plain": [
       "array([[-1.],\n",
       "       [ 1.],\n",
       "       [ 1.]])"
      ]
     },
     "execution_count": 178,
     "metadata": {},
     "output_type": "execute_result"
    }
   ],
   "source": [
    "x"
   ]
  },
  {
   "cell_type": "markdown",
   "metadata": {},
   "source": [
    "####ピボットあり"
   ]
  },
  {
   "cell_type": "code",
   "execution_count": 3,
   "metadata": {
    "collapsed": true
   },
   "outputs": [],
   "source": [
    "import numpy as np"
   ]
  },
  {
   "cell_type": "code",
   "execution_count": 4,
   "metadata": {
    "collapsed": false
   },
   "outputs": [],
   "source": [
    "A = np.array([ [1.0,2,3,4],[2,1,3,4],[3,2,1,4],[4,3,2,1] ])"
   ]
  },
  {
   "cell_type": "code",
   "execution_count": 5,
   "metadata": {
    "collapsed": false
   },
   "outputs": [
    {
     "data": {
      "text/plain": [
       "array([[ 1.,  2.,  3.,  4.],\n",
       "       [ 2.,  1.,  3.,  4.],\n",
       "       [ 3.,  2.,  1.,  4.],\n",
       "       [ 4.,  3.,  2.,  1.]])"
      ]
     },
     "execution_count": 5,
     "metadata": {},
     "output_type": "execute_result"
    }
   ],
   "source": [
    "A"
   ]
  },
  {
   "cell_type": "code",
   "execution_count": 140,
   "metadata": {
    "collapsed": false
   },
   "outputs": [
    {
     "data": {
      "text/plain": [
       "array([ 1.,  2.,  3.,  4.])"
      ]
     },
     "execution_count": 140,
     "metadata": {},
     "output_type": "execute_result"
    }
   ],
   "source": [
    "A[0]"
   ]
  },
  {
   "cell_type": "code",
   "execution_count": 145,
   "metadata": {
    "collapsed": false
   },
   "outputs": [],
   "source": [
    "t = np.ones(4)\n",
    "t = A[0]\n",
    "A[1] = t"
   ]
  },
  {
   "cell_type": "code",
   "execution_count": 146,
   "metadata": {
    "collapsed": false
   },
   "outputs": [
    {
     "data": {
      "text/plain": [
       "array([ 1.,  2.,  3.,  4.])"
      ]
     },
     "execution_count": 146,
     "metadata": {},
     "output_type": "execute_result"
    }
   ],
   "source": [
    "A[1]"
   ]
  },
  {
   "cell_type": "code",
   "execution_count": 6,
   "metadata": {
    "collapsed": true
   },
   "outputs": [],
   "source": [
    "def swapRow(A,i,j):\n",
    "    #行列Aの第i行と第j行を入れ替え。\n",
    "    n = A.shape[0] #行列Aの行数（列数）\n",
    "    \n",
    "    \n",
    "    #Aの入れ替え\n",
    "    t = np.ones(n+1) #格納用\n",
    "    t = A[i].copy()\n",
    "    A[i] = A[j]\n",
    "    A[j] = t\n",
    "    \n",
    "    return A\n",
    "    '''\n",
    "    \n",
    "    B = A.copy()\n",
    "    B[i] = A[j]\n",
    "    B[j] = A[i]\n",
    "    \n",
    "    return B\n",
    "    '''"
   ]
  },
  {
   "cell_type": "code",
   "execution_count": 7,
   "metadata": {
    "collapsed": false
   },
   "outputs": [
    {
     "data": {
      "text/plain": [
       "array([[ 4.,  3.,  2.,  1.],\n",
       "       [ 2.,  1.,  3.,  4.],\n",
       "       [ 3.,  2.,  1.,  4.],\n",
       "       [ 1.,  2.,  3.,  4.]])"
      ]
     },
     "execution_count": 7,
     "metadata": {},
     "output_type": "execute_result"
    }
   ],
   "source": [
    "swapRow(A,0,3)"
   ]
  },
  {
   "cell_type": "code",
   "execution_count": 22,
   "metadata": {
    "collapsed": false
   },
   "outputs": [
    {
     "data": {
      "text/plain": [
       "4"
      ]
     },
     "execution_count": 22,
     "metadata": {},
     "output_type": "execute_result"
    }
   ],
   "source": [
    "A.shape[0]"
   ]
  },
  {
   "cell_type": "code",
   "execution_count": 35,
   "metadata": {
    "collapsed": false
   },
   "outputs": [
    {
     "data": {
      "text/plain": [
       "array([[ 1.,  2.,  3.,  4.],\n",
       "       [ 2.,  1.,  3.,  4.],\n",
       "       [ 3.,  2.,  1.,  4.],\n",
       "       [ 4.,  3.,  2.,  1.]])"
      ]
     },
     "execution_count": 35,
     "metadata": {},
     "output_type": "execute_result"
    }
   ],
   "source": [
    "A #??? 関数の中でいじくっても、元のAは変わらないの？"
   ]
  },
  {
   "cell_type": "code",
   "execution_count": 39,
   "metadata": {
    "collapsed": false
   },
   "outputs": [],
   "source": [
    "def pivotLU(A):\n",
    "    #行列Aをピボット付きLU分解\n",
    "    n = A.shape[0]\n",
    "    LU = A.copy()\n",
    "    \n",
    "    for k in range(n):\n",
    "        max = 0\n",
    "        maxRowNum = 0\n",
    "        for m in range(k,n):\n",
    "            if abs(LU[m][k]) > max:\n",
    "                max = LU[m][k]\n",
    "                maxRowNum = [m]\n",
    "        \n",
    "        i = k\n",
    "        j = maxRowNum\n",
    "        LU = swapRow(LU,i,j)\n",
    "        \n",
    "        w = 1/max\n",
    "        \n",
    "        for i in range(k+1, n):\n",
    "            LU[i][k] = w * LU[i][k]\n",
    "            for j in range(k+1, n):\n",
    "                LU[i][j] = LU[i][j] - LU[i][k]*LU[k][j]\n",
    "                \n",
    "    return LU"
   ]
  },
  {
   "cell_type": "code",
   "execution_count": 40,
   "metadata": {
    "collapsed": false
   },
   "outputs": [
    {
     "data": {
      "text/plain": [
       "array([[ 4.  ,  3.  ,  2.  ,  1.  ],\n",
       "       [ 0.25,  1.25,  2.5 ,  3.75],\n",
       "       [ 0.5 , -0.4 ,  3.  ,  5.  ],\n",
       "       [ 0.75, -0.2 ,  0.  ,  4.  ]])"
      ]
     },
     "execution_count": 40,
     "metadata": {},
     "output_type": "execute_result"
    }
   ],
   "source": [
    "pivotLU(A)"
   ]
  },
  {
   "cell_type": "markdown",
   "metadata": {},
   "source": [
    "##6.4 連立１次方程式の反復解法"
   ]
  },
  {
   "cell_type": "code",
   "execution_count": 94,
   "metadata": {
    "collapsed": true
   },
   "outputs": [],
   "source": [
    "def stepJacobi(A,x,b):\n",
    "    #Jacobi法の１反復を行う。Ax = b\n",
    "    n = A.shape[0]\n",
    "    xNew = x.copy()\n",
    "    \n",
    "    for i in range(n):\n",
    "        s = 0.0\n",
    "        for j in range(n):\n",
    "            if i != j:\n",
    "                s += A[i][j]*x[j]\n",
    "        xNew[i] = (b[i] - s ) / A[i][i]\n",
    "\n",
    "    return xNew "
   ]
  },
  {
   "cell_type": "code",
   "execution_count": 48,
   "metadata": {
    "collapsed": false
   },
   "outputs": [],
   "source": [
    "A = np.array([[4.0,2,1],[2,4,1],[1,1,4]])\n",
    "b = np.array([[7.0],[8],[9]])\n",
    "x = np.array([[1.0],[1],[1]])"
   ]
  },
  {
   "cell_type": "code",
   "execution_count": 95,
   "metadata": {
    "collapsed": false
   },
   "outputs": [
    {
     "data": {
      "text/plain": [
       "array([[ 1.  ],\n",
       "       [ 1.25],\n",
       "       [ 1.75]])"
      ]
     },
     "execution_count": 95,
     "metadata": {},
     "output_type": "execute_result"
    }
   ],
   "source": [
    "stepJacobi(A,x,b)"
   ]
  },
  {
   "cell_type": "code",
   "execution_count": 77,
   "metadata": {
    "collapsed": true
   },
   "outputs": [],
   "source": [
    "from scipy.linalg import norm, solve"
   ]
  },
  {
   "cell_type": "code",
   "execution_count": 107,
   "metadata": {
    "collapsed": false
   },
   "outputs": [],
   "source": [
    "def Jacobi(A,x,b):\n",
    "    '''Jacobi法でAx=bを解く'''\n",
    "    \n",
    "    epsilon = 0.0000001 #停止条件\n",
    "    count = 0\n",
    "    iterationMax = 30\n",
    "    \n",
    "    while(norm(b - np.dot(A,x)) > epsilon):\n",
    "        if count > iterationMax:\n",
    "            break\n",
    "            \n",
    "        x = stepJacobi(A,x,b)\n",
    "        count += 1\n",
    "        \n",
    "        if count%5 == 0:\n",
    "            print \"count = \" + str(count)\n",
    "            print x\n",
    "    \n",
    "    print \"The number of iteration is \" + str(count)\n",
    "    return x"
   ]
  },
  {
   "cell_type": "code",
   "execution_count": 108,
   "metadata": {
    "collapsed": false
   },
   "outputs": [
    {
     "name": "stdout",
     "output_type": "stream",
     "text": [
      "count = 5\n",
      "[[ 0.74023438]\n",
      " [ 1.22460938]\n",
      " [ 1.79296875]]\n",
      "count = 10\n",
      "[[ 0.70065308]\n",
      " [ 1.20016479]\n",
      " [ 1.7696991 ]]\n",
      "count = 15\n",
      "[[ 0.70516795]\n",
      " [ 1.20515269]\n",
      " [ 1.77317739]]\n",
      "count = 20\n",
      "[[ 0.7044543 ]\n",
      " [ 1.20445382]\n",
      " [ 1.77266037]]\n",
      "count = 25\n",
      "[[ 0.70455905]\n",
      " [ 1.20455903]\n",
      " [ 1.77273722]]\n",
      "count = 30\n",
      "[[ 0.70454344]\n",
      " [ 1.20454343]\n",
      " [ 1.77272579]]\n",
      "The number of iteration is 31\n"
     ]
    },
    {
     "data": {
      "text/plain": [
       "array([[ 0.70454683],\n",
       "       [ 1.20454683],\n",
       "       [ 1.77272828]])"
      ]
     },
     "execution_count": 108,
     "metadata": {},
     "output_type": "execute_result"
    }
   ],
   "source": [
    "Jacobi(A,x,b)"
   ]
  },
  {
   "cell_type": "code",
   "execution_count": 78,
   "metadata": {
    "collapsed": false
   },
   "outputs": [
    {
     "data": {
      "text/plain": [
       "array([[ 0.70454545],\n",
       "       [ 1.20454545],\n",
       "       [ 1.77272727]])"
      ]
     },
     "execution_count": 78,
     "metadata": {},
     "output_type": "execute_result"
    }
   ],
   "source": [
    "solve(A,b)"
   ]
  },
  {
   "cell_type": "code",
   "execution_count": 111,
   "metadata": {
    "collapsed": true
   },
   "outputs": [],
   "source": [
    "def stepGaussSeidel(A,x,b):\n",
    "    #gauss-seidel法の一反復を行う\n",
    "    n = A.shape[0]\n",
    "    \n",
    "    for i in range(n):\n",
    "        s = 0.0\n",
    "        for j in range(n):\n",
    "            if j != i:\n",
    "                s += A[i][j]*x[j]\n",
    "\n",
    "        x[i] = (b[i] - s)/A[i][i]\n",
    "        \n",
    "    return x"
   ]
  },
  {
   "cell_type": "code",
   "execution_count": 112,
   "metadata": {
    "collapsed": false
   },
   "outputs": [
    {
     "data": {
      "text/plain": [
       "array([[ 1.    ],\n",
       "       [ 1.25  ],\n",
       "       [ 1.6875]])"
      ]
     },
     "execution_count": 112,
     "metadata": {},
     "output_type": "execute_result"
    }
   ],
   "source": [
    "stepGaussSeidel(A,x,b)"
   ]
  },
  {
   "cell_type": "code",
   "execution_count": 113,
   "metadata": {
    "collapsed": true
   },
   "outputs": [],
   "source": [
    "def GaussSeidel(A,x,b):\n",
    "    '''Gauss-Seidel法でAx=bを解く'''\n",
    "    \n",
    "    epsilon = 0.0000001 #停止条件\n",
    "    count = 0\n",
    "    iterationMax = 30\n",
    "    \n",
    "    while(norm(b - np.dot(A,x)) > epsilon):\n",
    "        if count > iterationMax:\n",
    "            break\n",
    "            \n",
    "        x = stepGaussSeidel(A,x,b)\n",
    "        count += 1\n",
    "        \n",
    "        if count%5 == 0:\n",
    "            print \"count = \" + str(count)\n",
    "            print x\n",
    "    \n",
    "    print \"The number of iteration is \" + str(count)\n",
    "    return x"
   ]
  },
  {
   "cell_type": "code",
   "execution_count": 114,
   "metadata": {
    "collapsed": false
   },
   "outputs": [
    {
     "name": "stdout",
     "output_type": "stream",
     "text": [
      "count = 5\n",
      "[[ 0.7043633 ]\n",
      " [ 1.20460329]\n",
      " [ 1.77275835]]\n",
      "count = 10\n",
      "[[ 0.70454542]\n",
      " [ 1.20454546]\n",
      " [ 1.77272728]]\n",
      "The number of iteration is 11\n"
     ]
    },
    {
     "data": {
      "text/plain": [
       "array([[ 0.70454545],\n",
       "       [ 1.20454546],\n",
       "       [ 1.77272727]])"
      ]
     },
     "execution_count": 114,
     "metadata": {},
     "output_type": "execute_result"
    }
   ],
   "source": [
    "GaussSeidel(A,x,b)"
   ]
  },
  {
   "cell_type": "code",
   "execution_count": null,
   "metadata": {
    "collapsed": true
   },
   "outputs": [],
   "source": []
  }
 ],
 "metadata": {
  "kernelspec": {
   "display_name": "Python 2",
   "language": "python",
   "name": "python2"
  },
  "language_info": {
   "codemirror_mode": {
    "name": "ipython",
    "version": 2
   },
   "file_extension": ".py",
   "mimetype": "text/x-python",
   "name": "python",
   "nbconvert_exporter": "python",
   "pygments_lexer": "ipython2",
   "version": "2.7.10"
  }
 },
 "nbformat": 4,
 "nbformat_minor": 0
}
